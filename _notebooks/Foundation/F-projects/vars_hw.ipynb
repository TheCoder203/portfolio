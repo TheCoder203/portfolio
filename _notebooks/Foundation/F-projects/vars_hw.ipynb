{
 "cells": [
  {
   "cell_type": "raw",
   "id": "8bc5a172",
   "metadata": {
    "vscode": {
     "languageId": "raw"
    }
   },
   "source": [
    "---\n",
    "layout: post\n",
    "title: JavaScript Variables Homework\n",
    "description: This page is the homework for the variables lesson\n",
    "categories: ['HTML', 'JavaScript']\n",
    "permalink: /lessons/variables-hw\n",
    "author: Pranay Kamath, Krish Kelageri\n",
    "---"
   ]
  },
  {
   "cell_type": "markdown",
   "id": "96e1f102",
   "metadata": {},
   "source": [
    "# Popcorn Hack 1\n",
    "\n",
    "Let's start diving into some of the quesitons. \n",
    "\n",
    "## Instructions\n",
    "\n",
    "1. In your own repository, create an HTML file. Properly adjust the frontmatter to access your site at a link you desire.\n",
    "3. Copy the following code below into the file"
   ]
  },
  {
   "cell_type": "code",
   "execution_count": null,
   "id": "39d2ec37",
   "metadata": {
    "vscode": {
     "languageId": "javascript"
    }
   },
   "outputs": [],
   "source": [
    "<!DOCTYPE html>\n",
    "<html>\n",
    "<head>\n",
    "  <title>My Popcorn Hack #1</title>\n",
    "</head>\n",
    "<body>\n",
    "  <h2>Variable Output</h2>\n",
    "  <div id=\"output\"></div>\n",
    "\n",
    "  <script>\n",
    "    let name = \"Alex\";\n",
    "    const age = 25;\n",
    "    var city = \"New York\";\n",
    "\n",
    "    // Change vars here\n",
    "    name = \"Bessie\";\n",
    "    //age = 2;   // What happens if you uncomment this line ???\n",
    "    city = \"Anishiapolis\";\n",
    "\n",
    "    document.getElementById(\"output\").innerText = name + \" is \" + age + \" years old and lives in \" + city + \".\";\n",
    "  </script>\n",
    "</body>\n",
    "</html>\n"
   ]
  },
  {
   "cell_type": "markdown",
   "id": "9c21d1a0",
   "metadata": {},
   "source": [
    "4. Adjust var declerations, names, values, etc. \n",
    "5. Record on a sticky note: what changes did you notice?\n",
    "\n",
    "# Popcorn Hack 2\n",
    "\n",
    "Let's see if you can identify mistakes and possible bugs in the code others have written. For the next following code snippets, identify any problems, if any."
   ]
  },
  {
   "cell_type": "code",
   "execution_count": null,
   "id": "0c45a19e",
   "metadata": {
    "vscode": {
     "languageId": "html"
    }
   },
   "outputs": [],
   "source": [
    "<!DOCTYPE html>\n",
    "<html>\n",
    "<head>\n",
    "  <title>My Popcorn Hack #1</title>\n",
    "</head>\n",
    "<body>\n",
    "  <h2>Variable Output</h2>\n",
    "  <div id=\"output\"></div>\n",
    "\n",
    "  <script>\n",
    "    let name = \"Alex\";\n",
    "    const age = 25;\n",
    "    var city = \"New York\";\n",
    "\n",
    "    // Change vars here\n",
    "    name = \"Bessie\";\n",
    "    age = 2;   // What happens if you uncomment this line ???\n",
    "    city = \"Anishiapolis\";\n",
    "\n",
    "    document.getElementById(\"output\").innerText = name + \" is \" + age + \" years old and lives in \" + city + \".\";\n",
    "  </script>\n",
    "</body>\n",
    "</html>\n"
   ]
  },
  {
   "cell_type": "code",
   "execution_count": null,
   "id": "8893f154",
   "metadata": {
    "vscode": {
     "languageId": "html"
    }
   },
   "outputs": [],
   "source": [
    "<!DOCTYPE html>\n",
    "<html>\n",
    "<head>\n",
    "  <title>My Popcorn Hack #1</title>\n",
    "</head>\n",
    "<body>\n",
    "  <h2>Variable Output</h2>\n",
    "  <div id=\"output\"></div>\n",
    "\n",
    "  <script>\n",
    "    let name = \"Alex\";\n",
    "    const age = 25;\n",
    "    var CITY = \"New York\";\n",
    "\n",
    "    // Change vars here\n",
    "    name = \"Bessie\";\n",
    "    //age = 2;   // What happens if you uncomment this line ???\n",
    "    city = \"Anishiapolis\";\n",
    "\n",
    "    document.getElementById(\"output\").innerText = name + \" is \" + age + \" years old and lives in \" + city + \".\";\n",
    "  </script>\n",
    "</body>\n",
    "</html>\n"
   ]
  },
  {
   "cell_type": "code",
   "execution_count": null,
   "id": "629bd575",
   "metadata": {
    "vscode": {
     "languageId": "html"
    }
   },
   "outputs": [],
   "source": [
    "<!DOCTYPE html>\n",
    "<html>\n",
    "<head>\n",
    "  <title>My Popcorn Hack #1</title>\n",
    "</head>\n",
    "<body>\n",
    "  <h2>Variable Output</h2>\n",
    "  <div id=\"output\"></div>\n",
    "\n",
    "  <script>\n",
    "    let name = \"Alex\";\n",
    "    const age = 25;\n",
    "    var city = \"New York\";\n",
    "\n",
    "    // Change vars here\n",
    "    name = \"Bessie\";\n",
    "    //age = 2;   // What happens if you uncomment this line ???\n",
    "    city = \"Anishiapolis\";\n",
    "\n",
    "    document.getElementById(\"output\").innerText = name + \" is \" + age + \" years old and lives in \" + city + \".\";\n",
    "  </script>\n",
    "</body>\n",
    "</html>\n"
   ]
  },
  {
   "cell_type": "markdown",
   "id": "97e0776c",
   "metadata": {},
   "source": [
    "## Solutions \n",
    "\n",
    "1. `age` should be a `let` declared variable, since we are redefining it.\n",
    "2. `CITY` should be lowercase.\n",
    "3. `New York` should have quotes around it."
   ]
  },
  {
   "cell_type": "markdown",
   "id": "299f5792",
   "metadata": {},
   "source": [
    "# <span style=\"color: lavender; text-shadow: 2px 2px 5px lavender;\">Variables Homework (Show what you know!) </span>\n",
    "\n",
    "### Homework Problem: Understanding JavaScript Variables \n",
    "\n",
    "### <span style=\"color: pink; text-shadow: 2px 2px 5px pink;\"> Creating Variables</span>\n",
    "\n",
    "1. Create a variable called `name` and store your first name in it. Print it in the console.\n",
    "\n",
    "\n",
    "2. Create two variables `age` and `city`. Print them in a single sentence like:\n",
    "        - \"I am 15 years old and I live in New York.\"\n",
    "\n",
    "\n",
    "3. Create a variable `isStudent` (true/false). Print it.\n",
    "\n",
    "Part B – Numbers & Strings\n",
    "\n",
    "\n",
    "4. Create two number variables num1 = 10 and num2 = 5.\n",
    "    // Print their sum, difference, product, and quotient.\n",
    "\n",
    "\n",
    "5. Make a variable `favoriteFood` and print:\n",
    "    My favorite food is ____.\"\n",
    "\n",
    "Part C – Practice Problems\n",
    "\n",
    "\n",
    "6. Swap the values of two variables: x = 7 and y = 3.\n",
    "\n",
    "\n",
    "7. Create a variable `fullName` by joining two strings: \"FirstName\" and \"LastName\".\n",
    "\n",
    "\n",
    "8. Convert temperature C = 25 into Fahrenheit using F = (C * 9/5) + 32.\n",
    "\n",
    "\n",
    "9. Create a variable score = 85.\n",
    "    - Print \"Pass\" if score >= 50, else \"Fail\".\n",
    "\n",
    "\n",
    "\n",
    "10. Write a program that asks for your name and age (use prompt)\n",
    "     and prints: \"Hello <name>, you are <age> years old.\"\n",
    "\n",
    "11. Make a project that uses 5 variables to run. It can do anything you want, have fun and good luck!\n",
    "\n",
    "Extra credit (optional): \n",
    "    Instead of hard coding the variable for number 9 to 85, make the variable a random number from 1-100.\n",
    "\n",
    "![An image of have fun](https://as2.ftcdn.net/jpg/05/52/30/29/1000_F_552302940_Nct9zn3a6us0igBJqlkDQzQnbM4LLvmS.jpg \"An image of have fun\")\n",
    "\n",
    "\n",
    "\n"
   ]
  },
  {
   "cell_type": "markdown",
   "id": "c45bc843",
   "metadata": {},
   "source": [
    "# Submission\n",
    "\n",
    "**IMPORTANT: When uploading, please name your Jupyter notebook in this format: [FirstName][LastName]_vars_hw.ipynb**\n",
    "Example: SamarthHande_hw.ipynb\n",
    "\n",
    "<https://forms.gle/UBDFErZpKpTApWap8>"
   ]
  }
 ],
 "metadata": {
  "language_info": {
   "name": "python"
  }
 },
 "nbformat": 4,
 "nbformat_minor": 5
}
